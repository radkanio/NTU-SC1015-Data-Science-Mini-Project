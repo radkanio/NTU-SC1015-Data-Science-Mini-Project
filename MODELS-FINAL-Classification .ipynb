{
 "cells": [
  {
   "cell_type": "code",
   "execution_count": 1,
   "id": "4907fa5a",
   "metadata": {},
   "outputs": [
    {
     "data": {
      "text/html": [
       "<div>\n",
       "<style scoped>\n",
       "    .dataframe tbody tr th:only-of-type {\n",
       "        vertical-align: middle;\n",
       "    }\n",
       "\n",
       "    .dataframe tbody tr th {\n",
       "        vertical-align: top;\n",
       "    }\n",
       "\n",
       "    .dataframe thead th {\n",
       "        text-align: right;\n",
       "    }\n",
       "</style>\n",
       "<table border=\"1\" class=\"dataframe\">\n",
       "  <thead>\n",
       "    <tr style=\"text-align: right;\">\n",
       "      <th></th>\n",
       "      <th>Quarter</th>\n",
       "      <th>Month</th>\n",
       "      <th>DayofMonth</th>\n",
       "      <th>DayOfWeek</th>\n",
       "      <th>FlightDate</th>\n",
       "      <th>Operating_Airline</th>\n",
       "      <th>DOT_ID_Operating_Airline</th>\n",
       "      <th>IATA_Code_Operating_Airline</th>\n",
       "      <th>OriginAirportID</th>\n",
       "      <th>OriginAirportSeqID</th>\n",
       "      <th>...</th>\n",
       "      <th>ActualElapsedTime</th>\n",
       "      <th>AirTime</th>\n",
       "      <th>Flights</th>\n",
       "      <th>Distance</th>\n",
       "      <th>DistanceGroup</th>\n",
       "      <th>CarrierDelay</th>\n",
       "      <th>WeatherDelay</th>\n",
       "      <th>NASDelay</th>\n",
       "      <th>SecurityDelay</th>\n",
       "      <th>LateAircraftDelay</th>\n",
       "    </tr>\n",
       "  </thead>\n",
       "  <tbody>\n",
       "    <tr>\n",
       "      <th>0</th>\n",
       "      <td>3</td>\n",
       "      <td>9</td>\n",
       "      <td>15</td>\n",
       "      <td>3</td>\n",
       "      <td>2021-09-15</td>\n",
       "      <td>DL</td>\n",
       "      <td>19790</td>\n",
       "      <td>DL</td>\n",
       "      <td>13487</td>\n",
       "      <td>1348702</td>\n",
       "      <td>...</td>\n",
       "      <td>165.0</td>\n",
       "      <td>141.0</td>\n",
       "      <td>1.0</td>\n",
       "      <td>1097.0</td>\n",
       "      <td>5</td>\n",
       "      <td>NaN</td>\n",
       "      <td>NaN</td>\n",
       "      <td>NaN</td>\n",
       "      <td>NaN</td>\n",
       "      <td>NaN</td>\n",
       "    </tr>\n",
       "    <tr>\n",
       "      <th>1</th>\n",
       "      <td>3</td>\n",
       "      <td>9</td>\n",
       "      <td>15</td>\n",
       "      <td>3</td>\n",
       "      <td>2021-09-15</td>\n",
       "      <td>DL</td>\n",
       "      <td>19790</td>\n",
       "      <td>DL</td>\n",
       "      <td>11042</td>\n",
       "      <td>1104205</td>\n",
       "      <td>...</td>\n",
       "      <td>109.0</td>\n",
       "      <td>82.0</td>\n",
       "      <td>1.0</td>\n",
       "      <td>554.0</td>\n",
       "      <td>3</td>\n",
       "      <td>NaN</td>\n",
       "      <td>NaN</td>\n",
       "      <td>NaN</td>\n",
       "      <td>NaN</td>\n",
       "      <td>NaN</td>\n",
       "    </tr>\n",
       "    <tr>\n",
       "      <th>2</th>\n",
       "      <td>3</td>\n",
       "      <td>9</td>\n",
       "      <td>15</td>\n",
       "      <td>3</td>\n",
       "      <td>2021-09-15</td>\n",
       "      <td>DL</td>\n",
       "      <td>19790</td>\n",
       "      <td>DL</td>\n",
       "      <td>12478</td>\n",
       "      <td>1247805</td>\n",
       "      <td>...</td>\n",
       "      <td>160.0</td>\n",
       "      <td>139.0</td>\n",
       "      <td>1.0</td>\n",
       "      <td>1089.0</td>\n",
       "      <td>5</td>\n",
       "      <td>NaN</td>\n",
       "      <td>NaN</td>\n",
       "      <td>NaN</td>\n",
       "      <td>NaN</td>\n",
       "      <td>NaN</td>\n",
       "    </tr>\n",
       "    <tr>\n",
       "      <th>3</th>\n",
       "      <td>3</td>\n",
       "      <td>9</td>\n",
       "      <td>15</td>\n",
       "      <td>3</td>\n",
       "      <td>2021-09-15</td>\n",
       "      <td>DL</td>\n",
       "      <td>19790</td>\n",
       "      <td>DL</td>\n",
       "      <td>10397</td>\n",
       "      <td>1039707</td>\n",
       "      <td>...</td>\n",
       "      <td>96.0</td>\n",
       "      <td>79.0</td>\n",
       "      <td>1.0</td>\n",
       "      <td>534.0</td>\n",
       "      <td>3</td>\n",
       "      <td>NaN</td>\n",
       "      <td>NaN</td>\n",
       "      <td>NaN</td>\n",
       "      <td>NaN</td>\n",
       "      <td>NaN</td>\n",
       "    </tr>\n",
       "    <tr>\n",
       "      <th>4</th>\n",
       "      <td>3</td>\n",
       "      <td>9</td>\n",
       "      <td>15</td>\n",
       "      <td>3</td>\n",
       "      <td>2021-09-15</td>\n",
       "      <td>DL</td>\n",
       "      <td>19790</td>\n",
       "      <td>DL</td>\n",
       "      <td>14869</td>\n",
       "      <td>1486903</td>\n",
       "      <td>...</td>\n",
       "      <td>94.0</td>\n",
       "      <td>79.0</td>\n",
       "      <td>1.0</td>\n",
       "      <td>546.0</td>\n",
       "      <td>3</td>\n",
       "      <td>NaN</td>\n",
       "      <td>NaN</td>\n",
       "      <td>NaN</td>\n",
       "      <td>NaN</td>\n",
       "      <td>NaN</td>\n",
       "    </tr>\n",
       "  </tbody>\n",
       "</table>\n",
       "<p>5 rows × 53 columns</p>\n",
       "</div>"
      ],
      "text/plain": [
       "   Quarter  Month  DayofMonth  DayOfWeek  FlightDate Operating_Airline   \\\n",
       "0        3      9          15          3  2021-09-15                 DL   \n",
       "1        3      9          15          3  2021-09-15                 DL   \n",
       "2        3      9          15          3  2021-09-15                 DL   \n",
       "3        3      9          15          3  2021-09-15                 DL   \n",
       "4        3      9          15          3  2021-09-15                 DL   \n",
       "\n",
       "   DOT_ID_Operating_Airline IATA_Code_Operating_Airline  OriginAirportID  \\\n",
       "0                     19790                          DL            13487   \n",
       "1                     19790                          DL            11042   \n",
       "2                     19790                          DL            12478   \n",
       "3                     19790                          DL            10397   \n",
       "4                     19790                          DL            14869   \n",
       "\n",
       "   OriginAirportSeqID  ...  ActualElapsedTime AirTime Flights Distance  \\\n",
       "0             1348702  ...              165.0   141.0     1.0   1097.0   \n",
       "1             1104205  ...              109.0    82.0     1.0    554.0   \n",
       "2             1247805  ...              160.0   139.0     1.0   1089.0   \n",
       "3             1039707  ...               96.0    79.0     1.0    534.0   \n",
       "4             1486903  ...               94.0    79.0     1.0    546.0   \n",
       "\n",
       "   DistanceGroup CarrierDelay  WeatherDelay  NASDelay  SecurityDelay  \\\n",
       "0              5          NaN           NaN       NaN            NaN   \n",
       "1              3          NaN           NaN       NaN            NaN   \n",
       "2              5          NaN           NaN       NaN            NaN   \n",
       "3              3          NaN           NaN       NaN            NaN   \n",
       "4              3          NaN           NaN       NaN            NaN   \n",
       "\n",
       "   LateAircraftDelay  \n",
       "0                NaN  \n",
       "1                NaN  \n",
       "2                NaN  \n",
       "3                NaN  \n",
       "4                NaN  \n",
       "\n",
       "[5 rows x 53 columns]"
      ]
     },
     "execution_count": 1,
     "metadata": {},
     "output_type": "execute_result"
    }
   ],
   "source": [
    "# Basic Libraries\n",
    "import numpy as np\n",
    "import pandas as pd\n",
    "import seaborn as sb\n",
    "import matplotlib.pyplot as plt # we only need pyplot\n",
    "sb.set() # set the default Seaborn style for graphics\n",
    "\n",
    "flight_data = pd.read_csv('/Users/komiyareiju/Desktop/flight_data(light).csv')\n",
    "flight_data.head()"
   ]
  },
  {
   "cell_type": "markdown",
   "id": "6ce7fc9b",
   "metadata": {},
   "source": [
    "## Note: Our overall objective is to predict if the flight delays or not (classification)."
   ]
  },
  {
   "cell_type": "markdown",
   "id": "955d94af",
   "metadata": {},
   "source": [
    "#### Tweak Some Variables for Predictors\n"
   ]
  },
  {
   "cell_type": "markdown",
   "id": "2f283b24",
   "metadata": {},
   "source": [
    "We saw in the EDA that there were relatively more delays in Mon and Sun(using 'DayOfWeek'). \n",
    "We create a new boolean column 'BusyDay' to indicate these days as the busy days. "
   ]
  },
  {
   "cell_type": "code",
   "execution_count": 2,
   "id": "d22022ce",
   "metadata": {},
   "outputs": [
    {
     "name": "stdout",
     "output_type": "stream",
     "text": [
      "   Quarter  Month  DayofMonth  DayOfWeek  FlightDate Operating_Airline   \\\n",
      "0        3      9          15          3  2021-09-15                 DL   \n",
      "1        3      9          15          3  2021-09-15                 DL   \n",
      "2        3      9          15          3  2021-09-15                 DL   \n",
      "3        3      9          15          3  2021-09-15                 DL   \n",
      "4        3      9          15          3  2021-09-15                 DL   \n",
      "\n",
      "   DOT_ID_Operating_Airline IATA_Code_Operating_Airline  OriginAirportID  \\\n",
      "0                     19790                          DL            13487   \n",
      "1                     19790                          DL            11042   \n",
      "2                     19790                          DL            12478   \n",
      "3                     19790                          DL            10397   \n",
      "4                     19790                          DL            14869   \n",
      "\n",
      "   OriginAirportSeqID  ...  AirTime Flights Distance DistanceGroup  \\\n",
      "0             1348702  ...    141.0     1.0   1097.0             5   \n",
      "1             1104205  ...     82.0     1.0    554.0             3   \n",
      "2             1247805  ...    139.0     1.0   1089.0             5   \n",
      "3             1039707  ...     79.0     1.0    534.0             3   \n",
      "4             1486903  ...     79.0     1.0    546.0             3   \n",
      "\n",
      "   CarrierDelay WeatherDelay  NASDelay  SecurityDelay  LateAircraftDelay  \\\n",
      "0           NaN          NaN       NaN            NaN                NaN   \n",
      "1           NaN          NaN       NaN            NaN                NaN   \n",
      "2           NaN          NaN       NaN            NaN                NaN   \n",
      "3           NaN          NaN       NaN            NaN                NaN   \n",
      "4           NaN          NaN       NaN            NaN                NaN   \n",
      "\n",
      "   BusyDay  \n",
      "0        0  \n",
      "1        0  \n",
      "2        0  \n",
      "3        0  \n",
      "4        0  \n",
      "\n",
      "[5 rows x 54 columns]\n"
     ]
    }
   ],
   "source": [
    "# Create a new column 'Busy' based on the condition\n",
    "flight_data['BusyDay'] = flight_data['DayOfWeek'].apply(lambda x: 1 if x in [1, 7] else 0)\n",
    "\n",
    "# Display the updated DataFrame\n",
    "print(flight_data.head())"
   ]
  },
  {
   "cell_type": "markdown",
   "id": "2f804df2",
   "metadata": {},
   "source": [
    "We also saw from EDA that there is a relation with the day of the time vs. median delay time.\n",
    "We hypothesise that the hour for the flight also matters. We create a new column 'CRSDepTime_FirstTwoDigits' to show this. "
   ]
  },
  {
   "cell_type": "code",
   "execution_count": 3,
   "id": "4c19f8cf",
   "metadata": {},
   "outputs": [],
   "source": [
    "flight_data['CRSDepTime_FirstTwoDigits'] = flight_data['CRSDepTime'].astype(str).str[:2]"
   ]
  },
  {
   "cell_type": "code",
   "execution_count": 4,
   "id": "7903bca4",
   "metadata": {},
   "outputs": [
    {
     "name": "stdout",
     "output_type": "stream",
     "text": [
      "<class 'pandas.core.frame.DataFrame'>\n",
      "RangeIndex: 6185870 entries, 0 to 6185869\n",
      "Data columns (total 55 columns):\n",
      " #   Column                       Dtype  \n",
      "---  ------                       -----  \n",
      " 0   Quarter                      int64  \n",
      " 1   Month                        int64  \n",
      " 2   DayofMonth                   int64  \n",
      " 3   DayOfWeek                    int64  \n",
      " 4   FlightDate                   object \n",
      " 5   Operating_Airline            object \n",
      " 6   DOT_ID_Operating_Airline     int64  \n",
      " 7   IATA_Code_Operating_Airline  object \n",
      " 8   OriginAirportID              int64  \n",
      " 9   OriginAirportSeqID           int64  \n",
      " 10  OriginCityMarketID           int64  \n",
      " 11  Origin                       object \n",
      " 12  OriginCityName               object \n",
      " 13  OriginState                  object \n",
      " 14  OriginStateFips              int64  \n",
      " 15  OriginStateName              object \n",
      " 16  OriginWac                    int64  \n",
      " 17  DestAirportID                int64  \n",
      " 18  DestAirportSeqID             int64  \n",
      " 19  DestCityMarketID             int64  \n",
      " 20  Dest                         object \n",
      " 21  DestCityName                 object \n",
      " 22  DestState                    object \n",
      " 23  DestStateFips                int64  \n",
      " 24  DestStateName                object \n",
      " 25  DestWac                      int64  \n",
      " 26  CRSDepTime                   int64  \n",
      " 27  DepTime                      float64\n",
      " 28  DepDelay                     float64\n",
      " 29  DepDelayMinutes              float64\n",
      " 30  DepDel15                     float64\n",
      " 31  DepartureDelayGroups         float64\n",
      " 32  DepTimeBlk                   object \n",
      " 33  CRSArrTime                   int64  \n",
      " 34  ArrTime                      float64\n",
      " 35  ArrDelay                     float64\n",
      " 36  ArrDelayMinutes              float64\n",
      " 37  ArrDel15                     float64\n",
      " 38  ArrivalDelayGroups           float64\n",
      " 39  ArrTimeBlk                   object \n",
      " 40  Cancelled                    float64\n",
      " 41  Diverted                     float64\n",
      " 42  CRSElapsedTime               float64\n",
      " 43  ActualElapsedTime            float64\n",
      " 44  AirTime                      float64\n",
      " 45  Flights                      float64\n",
      " 46  Distance                     float64\n",
      " 47  DistanceGroup                int64  \n",
      " 48  CarrierDelay                 float64\n",
      " 49  WeatherDelay                 float64\n",
      " 50  NASDelay                     float64\n",
      " 51  SecurityDelay                float64\n",
      " 52  LateAircraftDelay            float64\n",
      " 53  BusyDay                      int64  \n",
      " 54  CRSDepTime_FirstTwoDigits    object \n",
      "dtypes: float64(22), int64(19), object(14)\n",
      "memory usage: 2.5+ GB\n"
     ]
    }
   ],
   "source": [
    "# Check variables so far\n",
    "flight_data.info(verbose=True)"
   ]
  },
  {
   "cell_type": "markdown",
   "id": "f7bd37f4",
   "metadata": {},
   "source": [
    "We also saw there is huge variance within the flight delays. Thus, to predict accurately we remove outliers."
   ]
  },
  {
   "cell_type": "code",
   "execution_count": 5,
   "id": "64d79dc7",
   "metadata": {},
   "outputs": [
    {
     "name": "stdout",
     "output_type": "stream",
     "text": [
      "Quartiles of DepDelayMinutes for Delayed Flights (DepDelayMinutes > 0):\n",
      "25%     6.0\n",
      "50%    16.0\n",
      "75%    41.0\n",
      "Name: DepDelayMinutes, dtype: float64\n"
     ]
    }
   ],
   "source": [
    "flight_data.dtypes\n",
    "\n",
    "# Filter the DataFrame for flights with delay greater than 0 minute \n",
    "delayed_flights = flight_data[flight_data['DepDelayMinutes'] > 0]\n",
    "\n",
    "# Get quartiles\n",
    "quartiles_delayed = delayed_flights['DepDelayMinutes'].describe()[['25%', '50%', '75%']]\n",
    "\n",
    "print(\"Quartiles of DepDelayMinutes for Delayed Flights (DepDelayMinutes > 0):\")\n",
    "print(quartiles_delayed)"
   ]
  },
  {
   "cell_type": "markdown",
   "id": "1ffc87fb",
   "metadata": {},
   "source": [
    "We see a huge jump from the 50% to the 75% quartile. We shall see in more increments to probe. "
   ]
  },
  {
   "cell_type": "code",
   "execution_count": 6,
   "id": "7a596153",
   "metadata": {},
   "outputs": [
    {
     "name": "stdout",
     "output_type": "stream",
     "text": [
      "Quartiles of DepDelayMinutes for Delayed Flights (DepDelayMinutes > 0):\n",
      "75th percentile: 41.0\n",
      "80th percentile: 52.0\n",
      "85th percentile: 68.0\n",
      "90th percentile: 93.0\n",
      "95th percentile: 143.0\n",
      "99th percentile: 309.0\n"
     ]
    }
   ],
   "source": [
    "delayed_flights = flight_data[flight_data['DepDelayMinutes'] > 0]\n",
    "\n",
    "# Calculate more specific percentiles\n",
    "percentiles = [75, 80, 85, 90, 95, 99]\n",
    "quartiles_delayed = np.percentile(delayed_flights['DepDelayMinutes'], percentiles)\n",
    "\n",
    "print(\"Quartiles of DepDelayMinutes for Delayed Flights (DepDelayMinutes > 0):\")\n",
    "for p, q in zip(percentiles, quartiles_delayed):\n",
    "    print(f\"{p}th percentile: {q}\")"
   ]
  },
  {
   "cell_type": "markdown",
   "id": "f4fe27e6",
   "metadata": {},
   "source": [
    "From the 85th percentile and onwards, there seems to be a large jump. We decide to consider this range as the range with outliers and thus proceed to remove it."
   ]
  },
  {
   "cell_type": "code",
   "execution_count": 7,
   "id": "f6a7230e",
   "metadata": {},
   "outputs": [],
   "source": [
    "percentile_85 = np.percentile(flight_data['DepDelayMinutes'], 85)\n",
    "\n",
    "# Drop rows where DepDelayMinutes is greater than 0 and at or above the 85th percentile\n",
    "flight_data = flight_data.drop(flight_data[(flight_data['DepDelayMinutes'] > 0) & (flight_data['DepDelayMinutes'] >= percentile_85)].index)"
   ]
  },
  {
   "cell_type": "code",
   "execution_count": 8,
   "id": "856fa31c",
   "metadata": {},
   "outputs": [
    {
     "name": "stdout",
     "output_type": "stream",
     "text": [
      "Quartiles of DepDelayMinutes for Delayed Flights (DepDelayMinutes > 0):\n",
      "25%     3.0\n",
      "50%     6.0\n",
      "75%    11.0\n",
      "Name: DepDelayMinutes, dtype: float64\n"
     ]
    }
   ],
   "source": [
    "# Check if the data has changed...(it has)\n",
    "\n",
    "# Filter the DataFrame for flights with delay greater than 0 minute\n",
    "delayed_flights = flight_data[flight_data['DepDelayMinutes'] > 0]\n",
    "\n",
    "# Get quartiles\n",
    "quartiles_delayed = delayed_flights['DepDelayMinutes'].describe()[['25%', '50%', '75%']]\n",
    "\n",
    "print(\"Quartiles of DepDelayMinutes for Delayed Flights (DepDelayMinutes > 0):\")\n",
    "print(quartiles_delayed)"
   ]
  },
  {
   "cell_type": "markdown",
   "id": "3fc92dff",
   "metadata": {},
   "source": [
    "We also check for missing values (NA) in each column. "
   ]
  },
  {
   "cell_type": "code",
   "execution_count": 9,
   "id": "f0a36ff8",
   "metadata": {},
   "outputs": [
    {
     "name": "stdout",
     "output_type": "stream",
     "text": [
      "Columns with missing values:\n",
      "CarrierDelay         4978862\n",
      "WeatherDelay         4978862\n",
      "NASDelay             4978862\n",
      "SecurityDelay        4978862\n",
      "LateAircraftDelay    4978862\n",
      "dtype: int64\n"
     ]
    }
   ],
   "source": [
    "na_columns = flight_data.columns[flight_data.isna().any()]\n",
    "na_counts = flight_data[na_columns].isna().sum()\n",
    "\n",
    "# Display columns with missing values and their respective counts\n",
    "print(\"Columns with missing values:\")\n",
    "print(na_counts)"
   ]
  },
  {
   "cell_type": "markdown",
   "id": "fe912ebb",
   "metadata": {},
   "source": [
    "We explore more."
   ]
  },
  {
   "cell_type": "code",
   "execution_count": 10,
   "id": "67053dee",
   "metadata": {},
   "outputs": [
    {
     "name": "stdout",
     "output_type": "stream",
     "text": [
      "Quartiles of Delay Columns:\n",
      "        CarrierDelay   WeatherDelay       NASDelay  SecurityDelay  \\\n",
      "count  274423.000000  274423.000000  274423.000000  274423.000000   \n",
      "mean        5.558404       0.470631      19.395575       0.053498   \n",
      "std         9.850829       3.716319      17.622697       0.870569   \n",
      "min         0.000000       0.000000       0.000000       0.000000   \n",
      "25%         0.000000       0.000000       7.000000       0.000000   \n",
      "50%         0.000000       0.000000      17.000000       0.000000   \n",
      "75%        10.000000       0.000000      26.000000       0.000000   \n",
      "max       194.000000     184.000000     498.000000      63.000000   \n",
      "\n",
      "       LateAircraftDelay  \n",
      "count      274423.000000  \n",
      "mean            1.571184  \n",
      "std             4.809802  \n",
      "min             0.000000  \n",
      "25%             0.000000  \n",
      "50%             0.000000  \n",
      "75%             0.000000  \n",
      "max           149.000000  \n"
     ]
    }
   ],
   "source": [
    "# Select the columns\n",
    "delay_columns = ['CarrierDelay', 'WeatherDelay', 'NASDelay', 'SecurityDelay', 'LateAircraftDelay']\n",
    "\n",
    "# Calculate quartiles for each delay column\n",
    "quartiles = flight_data[delay_columns].describe(percentiles=[0.25, 0.5, 0.75])\n",
    "\n",
    "# Print quartiles for each delay column\n",
    "print(\"Quartiles of Delay Columns:\")\n",
    "print(quartiles)"
   ]
  },
  {
   "cell_type": "markdown",
   "id": "428b0ba6",
   "metadata": {},
   "source": [
    "We want to use the fillna method with mean. But we observe there is a lot of variance within the columns.\n",
    "Thus we first remove the outliers for each column and then proceed to use the fillna method. "
   ]
  },
  {
   "cell_type": "code",
   "execution_count": 11,
   "id": "8991e8cd",
   "metadata": {},
   "outputs": [
    {
     "name": "stdout",
     "output_type": "stream",
     "text": [
      "Mean of Delay Columns after removing outliers:\n",
      "CarrierDelay: 4.830258878372514\n",
      "WeatherDelay: 0.0\n",
      "NASDelay: 19.137928680446855\n",
      "SecurityDelay: 0.0\n",
      "LateAircraftDelay: 0.0\n"
     ]
    }
   ],
   "source": [
    "# Create a copy of the original flight_data\n",
    "flight_data_copy = flight_data.copy()\n",
    "\n",
    "# Calculate quartiles for each delay column in the copy\n",
    "quartiles = flight_data_copy[delay_columns].describe(percentiles=[0.25, 0.5, 0.75])\n",
    "\n",
    "# Calculate IQR for each delay column\n",
    "Q1 = quartiles.loc['25%']\n",
    "Q3 = quartiles.loc['75%']\n",
    "IQR = Q3 - Q1\n",
    "\n",
    "# Define the lower and upper bounds for outliers\n",
    "lower_bound = Q1 - 1.5 * IQR\n",
    "upper_bound = Q3 + 1.5 * IQR\n",
    "\n",
    "# Remove outliers for each delay column from the copy\n",
    "for column in delay_columns:\n",
    "    flight_data_copy = flight_data_copy[(flight_data_copy[column] >= lower_bound[column]) & (flight_data_copy[column] <= upper_bound[column])]\n",
    "\n",
    "# Calculate the mean for each delay column in the copy after removing outliers\n",
    "mean_delay_columns = flight_data_copy[delay_columns].mean()\n",
    "\n",
    "# Print the mean for each delay column\n",
    "print(\"Mean of Delay Columns after removing outliers:\")\n",
    "for column in delay_columns:\n",
    "    print(f\"{column}: {mean_delay_columns[column]}\")"
   ]
  },
  {
   "cell_type": "code",
   "execution_count": 12,
   "id": "fe1c57d6",
   "metadata": {},
   "outputs": [
    {
     "name": "stderr",
     "output_type": "stream",
     "text": [
      "/var/folders/vr/jxcn32m10yb75616tykny2qr0000gn/T/ipykernel_65767/2779183331.py:5: SettingWithCopyWarning: \n",
      "A value is trying to be set on a copy of a slice from a DataFrame\n",
      "\n",
      "See the caveats in the documentation: https://pandas.pydata.org/pandas-docs/stable/user_guide/indexing.html#returning-a-view-versus-a-copy\n",
      "  filled_df['CarrierDelay'].fillna(4.830258878372514, inplace=True)\n",
      "/var/folders/vr/jxcn32m10yb75616tykny2qr0000gn/T/ipykernel_65767/2779183331.py:6: SettingWithCopyWarning: \n",
      "A value is trying to be set on a copy of a slice from a DataFrame\n",
      "\n",
      "See the caveats in the documentation: https://pandas.pydata.org/pandas-docs/stable/user_guide/indexing.html#returning-a-view-versus-a-copy\n",
      "  filled_df['NASDelay'].fillna(19.137928680446855, inplace=True)\n",
      "/var/folders/vr/jxcn32m10yb75616tykny2qr0000gn/T/ipykernel_65767/2779183331.py:7: SettingWithCopyWarning: \n",
      "A value is trying to be set on a copy of a slice from a DataFrame\n",
      "\n",
      "See the caveats in the documentation: https://pandas.pydata.org/pandas-docs/stable/user_guide/indexing.html#returning-a-view-versus-a-copy\n",
      "  filled_df['WeatherDelay'].fillna(0, inplace=True)\n",
      "/var/folders/vr/jxcn32m10yb75616tykny2qr0000gn/T/ipykernel_65767/2779183331.py:8: SettingWithCopyWarning: \n",
      "A value is trying to be set on a copy of a slice from a DataFrame\n",
      "\n",
      "See the caveats in the documentation: https://pandas.pydata.org/pandas-docs/stable/user_guide/indexing.html#returning-a-view-versus-a-copy\n",
      "  filled_df['SecurityDelay'].fillna(0, inplace=True)\n",
      "/var/folders/vr/jxcn32m10yb75616tykny2qr0000gn/T/ipykernel_65767/2779183331.py:9: SettingWithCopyWarning: \n",
      "A value is trying to be set on a copy of a slice from a DataFrame\n",
      "\n",
      "See the caveats in the documentation: https://pandas.pydata.org/pandas-docs/stable/user_guide/indexing.html#returning-a-view-versus-a-copy\n",
      "  filled_df['LateAircraftDelay'].fillna(0, inplace=True)\n"
     ]
    }
   ],
   "source": [
    "# Identify rows with NaN values in delay columns. Create new dataframe filled_df. \n",
    "filled_df = flight_data[flight_data[delay_columns].isna().any(axis=1)]\n",
    "\n",
    "# Manually input the means for each column\n",
    "filled_df['CarrierDelay'].fillna(4.830258878372514, inplace=True)\n",
    "filled_df['NASDelay'].fillna(19.137928680446855, inplace=True)\n",
    "filled_df['WeatherDelay'].fillna(0, inplace=True)\n",
    "filled_df['SecurityDelay'].fillna(0, inplace=True)\n",
    "filled_df['LateAircraftDelay'].fillna(0, inplace=True)"
   ]
  },
  {
   "cell_type": "markdown",
   "id": "32e525c6",
   "metadata": {},
   "source": [
    "### Modelling"
   ]
  },
  {
   "cell_type": "markdown",
   "id": "df51e99d",
   "metadata": {},
   "source": [
    "On to the actual modelling. We saw during the EDA that the origin airport and the carrier were important predictors. Thus we pre-determine such factors already; else we will face too much of a variance within the delay times it is practically impossible to predict. Although we chose random variables here, you can choose any that you like as long as it is in the dataset. "
   ]
  },
  {
   "cell_type": "markdown",
   "id": "f1d38a81",
   "metadata": {},
   "source": [
    "Also note that we use the 'filled_df' for the dataset and not flight data. This is because flight_data has the actual real-life 'delay_columns' (Weather Delay etc.), but fill_df only has the mean of it. You could think of it as essentially training the dataframe, or using accumulated variables in year X to predict delays in year X+1. In this way we avoid using response variables to predict response variables. "
   ]
  },
  {
   "cell_type": "markdown",
   "id": "24e99b95",
   "metadata": {},
   "source": [
    "We tried three different models: Decision Tree, Random Forest, and Logistic Regression."
   ]
  },
  {
   "cell_type": "code",
   "execution_count": 13,
   "id": "d68827f6",
   "metadata": {},
   "outputs": [
    {
     "name": "stderr",
     "output_type": "stream",
     "text": [
      "/var/folders/vr/jxcn32m10yb75616tykny2qr0000gn/T/ipykernel_65767/3080390843.py:6: SettingWithCopyWarning: \n",
      "A value is trying to be set on a copy of a slice from a DataFrame\n",
      "\n",
      "See the caveats in the documentation: https://pandas.pydata.org/pandas-docs/stable/user_guide/indexing.html#returning-a-view-versus-a-copy\n",
      "  temp_data.drop(['DepDelay', 'DepDel15', 'DepartureDelayGroups', 'DepTimeBlk',\n"
     ]
    }
   ],
   "source": [
    "# Pre-designate origin and airline randomly. \n",
    "# This airport and airline had a sufficient amount of data entries (around 50000) so we are fine to use it.\n",
    "temp_data = filled_df.loc[(filled_df['Origin'] == 'ATL') & \n",
    "                            (filled_df['IATA_Code_Operating_Airline'] == '9E')]\n",
    "# Drop necessary variables.\n",
    "temp_data.drop(['DepDelay', 'DepDel15', 'DepartureDelayGroups', 'DepTimeBlk',\n",
    "                'ArrTime','ArrDelayMinutes', 'ArrDel15', 'ArrivalDelayGroups',  \n",
    "                'ArrTimeBlk', 'ActualElapsedTime', 'AirTime', 'Cancelled', 'DepTime'], axis=1, inplace=True)"
   ]
  },
  {
   "cell_type": "code",
   "execution_count": 14,
   "id": "75584ae9",
   "metadata": {},
   "outputs": [
    {
     "data": {
      "text/plain": [
       "Quarter                          int64\n",
       "Month                            int64\n",
       "DayofMonth                       int64\n",
       "DayOfWeek                        int64\n",
       "FlightDate                      object\n",
       "Operating_Airline               object\n",
       "DOT_ID_Operating_Airline         int64\n",
       "IATA_Code_Operating_Airline     object\n",
       "OriginAirportID                  int64\n",
       "OriginAirportSeqID               int64\n",
       "OriginCityMarketID               int64\n",
       "Origin                          object\n",
       "OriginCityName                  object\n",
       "OriginState                     object\n",
       "OriginStateFips                  int64\n",
       "OriginStateName                 object\n",
       "OriginWac                        int64\n",
       "DestAirportID                    int64\n",
       "DestAirportSeqID                 int64\n",
       "DestCityMarketID                 int64\n",
       "Dest                            object\n",
       "DestCityName                    object\n",
       "DestState                       object\n",
       "DestStateFips                    int64\n",
       "DestStateName                   object\n",
       "DestWac                          int64\n",
       "CRSDepTime                       int64\n",
       "DepDelayMinutes                float64\n",
       "CRSArrTime                       int64\n",
       "ArrDelay                       float64\n",
       "Diverted                       float64\n",
       "CRSElapsedTime                 float64\n",
       "Flights                        float64\n",
       "Distance                       float64\n",
       "DistanceGroup                    int64\n",
       "CarrierDelay                   float64\n",
       "WeatherDelay                   float64\n",
       "NASDelay                       float64\n",
       "SecurityDelay                  float64\n",
       "LateAircraftDelay              float64\n",
       "BusyDay                          int64\n",
       "CRSDepTime_FirstTwoDigits       object\n",
       "dtype: object"
      ]
     },
     "execution_count": 14,
     "metadata": {},
     "output_type": "execute_result"
    }
   ],
   "source": [
    "# Predictors\n",
    "temp_data.dtypes"
   ]
  },
  {
   "cell_type": "markdown",
   "id": "9b4cb4f0",
   "metadata": {},
   "source": [
    "## Decision Tree"
   ]
  },
  {
   "cell_type": "markdown",
   "id": "875306d7",
   "metadata": {},
   "source": [
    "Decision Trees recursively partition the feature space based on our dataset’s features. Each internal node of the tree represents a decision based on a feature value, such as whether the departure time is before or after a certain threshold. These decisions lead to binary splits, creating a hierarchical structure that ultimately predicts the likelihood of a flight delay at the leaf nodes."
   ]
  },
  {
   "cell_type": "code",
   "execution_count": 15,
   "id": "2f36b28b",
   "metadata": {},
   "outputs": [
    {
     "name": "stderr",
     "output_type": "stream",
     "text": [
      "/var/folders/vr/jxcn32m10yb75616tykny2qr0000gn/T/ipykernel_65767/2247738402.py:10: SettingWithCopyWarning: \n",
      "A value is trying to be set on a copy of a slice from a DataFrame.\n",
      "Try using .loc[row_indexer,col_indexer] = value instead\n",
      "\n",
      "See the caveats in the documentation: https://pandas.pydata.org/pandas-docs/stable/user_guide/indexing.html#returning-a-view-versus-a-copy\n",
      "  temp_data['DepDelayAbove0'] = (temp_data['DepDelayMinutes'] > 0).astype(int)\n"
     ]
    },
    {
     "name": "stdout",
     "output_type": "stream",
     "text": [
      "Accuracy: 0.8704184704184704\n"
     ]
    }
   ],
   "source": [
    "from sklearn.impute import SimpleImputer\n",
    "from sklearn.preprocessing import OneHotEncoder, StandardScaler\n",
    "from sklearn.tree import DecisionTreeClassifier  \n",
    "from sklearn.compose import ColumnTransformer\n",
    "from sklearn.model_selection import train_test_split\n",
    "from sklearn.pipeline import Pipeline\n",
    "from sklearn.metrics import accuracy_score \n",
    "\n",
    "# Step 1: Create a binary target variable\n",
    "temp_data['DepDelayAbove0'] = (temp_data['DepDelayMinutes'] > 0).astype(int)\n",
    "\n",
    "# Step 2: Split the data into features (X) and binary target variable (y)\n",
    "X = temp_data.drop(['DepDelayMinutes', 'DepDelayAbove0'], axis=1)\n",
    "y = temp_data['DepDelayAbove0']\n",
    "\n",
    "# Step 3: Split the data into training and testing sets\n",
    "X_train, X_test, y_train, y_test = train_test_split(X, y, test_size=0.2, random_state=42)\n",
    "\n",
    "# Step 4: Preprocess numerical and categorical features separately\n",
    "numeric_features = X.select_dtypes(include=['int64', 'float64']).columns\n",
    "categorical_features = X.select_dtypes(include=['object']).columns\n",
    "\n",
    "numeric_transformer = Pipeline(steps=[\n",
    "    ('imputer', SimpleImputer(strategy='median')),\n",
    "    ('scaler', StandardScaler())\n",
    "])\n",
    "\n",
    "categorical_transformer = Pipeline(steps=[\n",
    "    ('imputer', SimpleImputer(strategy='most_frequent')),\n",
    "    ('onehot', OneHotEncoder(handle_unknown='ignore'))\n",
    "])\n",
    "\n",
    "preprocessor = ColumnTransformer(\n",
    "    transformers=[\n",
    "        ('num', numeric_transformer, numeric_features),\n",
    "        ('cat', categorical_transformer, categorical_features)\n",
    "    ]\n",
    ")\n",
    "\n",
    "# Step 5: Create a pipeline with preprocessing and model training\n",
    "pipeline = Pipeline(steps=[\n",
    "    ('preprocessor', preprocessor),\n",
    "    ('classifier', DecisionTreeClassifier(random_state=42))  # Changed\n",
    "])\n",
    "\n",
    "# Step 6: Train the model\n",
    "pipeline.fit(X_train, y_train)\n",
    "\n",
    "# Step 7: Evaluate the trained model\n",
    "y_pred = pipeline.predict(X_test)\n",
    "\n",
    "# Evaluation metrics for classification\n",
    "accuracy = accuracy_score(y_test, y_pred)\n",
    "print(\"Accuracy:\", accuracy)"
   ]
  },
  {
   "cell_type": "markdown",
   "id": "eaf92a34",
   "metadata": {},
   "source": [
    "Let us print the confusion matrix."
   ]
  },
  {
   "cell_type": "code",
   "execution_count": 16,
   "id": "a2aa9551",
   "metadata": {},
   "outputs": [
    {
     "data": {
      "image/png": "[encoded data removed]",
      "text/plain": [
       "<Figure size 800x600 with 1 Axes>"
      ]
     },
     "metadata": {},
     "output_type": "display_data"
    },
    {
     "name": "stdout",
     "output_type": "stream",
     "text": [
      "True Positive Rate (TPR): 0.25\n",
      "True Negative Rate (TNR): 0.93\n",
      "False Positive Rate (FPR): 0.07\n",
      "False Negative Rate (FNR): 0.75\n"
     ]
    }
   ],
   "source": [
    "from sklearn.metrics import confusion_matrix\n",
    "\n",
    "# Calculate confusion matrix\n",
    "conf_matrix = confusion_matrix(y_test, y_pred)\n",
    "\n",
    "# Visualize confusion matrix\n",
    "plt.figure(figsize=(8, 6))\n",
    "sb.heatmap(conf_matrix, annot=True, fmt='d', cmap='Blues', cbar=False,\n",
    "            xticklabels=['Predicted Negative', 'Predicted Positive'],\n",
    "            yticklabels=['Actual Negative', 'Actual Positive'])\n",
    "plt.xlabel('Predicted')\n",
    "plt.ylabel('True')\n",
    "plt.title('Confusion Matrix')\n",
    "plt.show()\n",
    "\n",
    "# Calculate rates\n",
    "tn, fp, fn, tp = conf_matrix.ravel()\n",
    "tpr = tp / (tp + fn)\n",
    "tnr = tn / (tn + fp)\n",
    "fpr = fp / (fp + tn)\n",
    "fnr = fn / (fn + tp)\n",
    "\n",
    "# Print rates\n",
    "print(\"True Positive Rate (TPR): {:.2f}\".format(tpr))\n",
    "print(\"True Negative Rate (TNR): {:.2f}\".format(tnr))\n",
    "print(\"False Positive Rate (FPR): {:.2f}\".format(fpr))\n",
    "print(\"False Negative Rate (FNR): {:.2f}\".format(fnr))\n"
   ]
  },
  {
   "cell_type": "markdown",
   "id": "79f83c11",
   "metadata": {},
   "source": [
    "We see TPR and TNR rate is vastly different. This may be problematic as the test data we use might have been skewed. We then try changing the testing data to include a more larger group of data points. Concretely, instead of using 'filled_df', we use the original data set (while dropping some variables)."
   ]
  },
  {
   "cell_type": "code",
   "execution_count": 17,
   "id": "24f6bad1",
   "metadata": {},
   "outputs": [
    {
     "name": "stdout",
     "output_type": "stream",
     "text": [
      "Accuracy: 0.8628131744393357\n"
     ]
    },
    {
     "data": {
      "image/png": "[encoded data removed]",
      "text/plain": [
       "<Figure size 800x600 with 1 Axes>"
      ]
     },
     "metadata": {},
     "output_type": "display_data"
    },
    {
     "name": "stdout",
     "output_type": "stream",
     "text": [
      "True Positive Rate (TPR): 0.30\n",
      "True Negative Rate (TNR): 0.93\n",
      "False Positive Rate (FPR): 0.07\n",
      "False Negative Rate (FNR): 0.70\n"
     ]
    }
   ],
   "source": [
    "new_temp_data = flight_data.loc[(flight_data['Origin'] == 'ATL') & \n",
    "                                (flight_data['IATA_Code_Operating_Airline'] == '9E')]\n",
    "\n",
    "\n",
    "# Drop columns without inplace=True or assign the result back to new_temp_data\n",
    "new_temp_data = new_temp_data.drop(['DepDelay', 'DepDel15', 'DepartureDelayGroups', 'DepTimeBlk',\n",
    "                'ArrTime','ArrDelayMinutes', 'ArrDel15', 'ArrivalDelayGroups',  \n",
    "                'ArrTimeBlk', 'ActualElapsedTime', 'AirTime', 'Cancelled', 'DepTime', 'CarrierDelay', 'WeatherDelay',\n",
    "                'NASDelay', 'SecurityDelay', 'LateAircraftDelay'], axis=1)\n",
    "\n",
    "# Create a binary target variable\n",
    "new_temp_data['DepDelayAbove0'] = (new_temp_data['DepDelayMinutes'] > 0).astype(int)\n",
    "\n",
    "# Split the data into features (X) and binary target variable (y)\n",
    "X = new_temp_data.drop(['DepDelayMinutes', 'DepDelayAbove0'], axis=1)\n",
    "y = new_temp_data['DepDelayAbove0']\n",
    "\n",
    "# Split the data into training and testing sets\n",
    "X_train, X_test, y_train, y_test = train_test_split(X, y, test_size=0.2, random_state=42)\n",
    "\n",
    "# Preprocess numerical and categorical features separately\n",
    "numeric_features = X.select_dtypes(include=['int64', 'float64']).columns\n",
    "categorical_features = X.select_dtypes(include=['object']).columns\n",
    "\n",
    "numeric_transformer = Pipeline(steps=[\n",
    "    ('imputer', SimpleImputer(strategy='median')),\n",
    "    ('scaler', StandardScaler())\n",
    "])\n",
    "\n",
    "categorical_transformer = Pipeline(steps=[\n",
    "    ('imputer', SimpleImputer(strategy='most_frequent')),\n",
    "    ('onehot', OneHotEncoder(handle_unknown='ignore'))\n",
    "])\n",
    "\n",
    "preprocessor = ColumnTransformer(\n",
    "    transformers=[\n",
    "        ('num', numeric_transformer, numeric_features),\n",
    "        ('cat', categorical_transformer, categorical_features)\n",
    "    ]\n",
    ")\n",
    "\n",
    "# Create a pipeline with preprocessing and model training\n",
    "pipeline = Pipeline(steps=[\n",
    "    ('preprocessor', preprocessor),\n",
    "    ('classifier', DecisionTreeClassifier(random_state=42))  \n",
    "])\n",
    "\n",
    "# Train the model\n",
    "pipeline.fit(X_train, y_train)\n",
    "\n",
    "# Evaluate the trained model\n",
    "y_pred = pipeline.predict(X_test)\n",
    "\n",
    "# Evaluation metrics for classification\n",
    "accuracy = accuracy_score(y_test, y_pred)\n",
    "print(\"Accuracy:\", accuracy)\n",
    "\n",
    "# Calculate confusion matrix\n",
    "conf_matrix = confusion_matrix(y_test, y_pred)\n",
    "\n",
    "# Visualize confusion matrix\n",
    "plt.figure(figsize=(8, 6))\n",
    "sb.heatmap(conf_matrix, annot=True, fmt='d', cmap='Blues', cbar=False,\n",
    "            xticklabels=['Predicted Negative', 'Predicted Positive'],\n",
    "            yticklabels=['Actual Negative', 'Actual Positive'])\n",
    "plt.xlabel('Predicted')\n",
    "plt.ylabel('True')\n",
    "plt.title('Confusion Matrix')\n",
    "plt.show()\n",
    "\n",
    "# Calculate rates\n",
    "tn, fp, fn, tp = conf_matrix.ravel()\n",
    "tpr = tp / (tp + fn)\n",
    "tnr = tn / (tn + fp)\n",
    "fpr = fp / (fp + tn)\n",
    "fnr = fn / (fn + tp)\n",
    "\n",
    "# Print rates\n",
    "print(\"True Positive Rate (TPR): {:.2f}\".format(tpr))\n",
    "print(\"True Negative Rate (TNR): {:.2f}\".format(tnr))\n",
    "print(\"False Positive Rate (FPR): {:.2f}\".format(fpr))\n",
    "print(\"False Negative Rate (FNR): {:.2f}\".format(fnr))"
   ]
  },
  {
   "cell_type": "markdown",
   "id": "a7ed67b1",
   "metadata": {},
   "source": [
    "We do not see much of a difference compared to when we used 'filled_df'. Thus, we observe that the high accuraccy comes from the fact that much more of the data contains non-delays than delays. It is hard to tweak variables and increase the TPR since this is just how the original dataset was like. However, we could increase the weightage for the minority class (i.e. the delayed flights) within the model, so that the TPR could increase."
   ]
  },
  {
   "cell_type": "code",
   "execution_count": 18,
   "id": "1a2ab250",
   "metadata": {},
   "outputs": [
    {
     "name": "stderr",
     "output_type": "stream",
     "text": [
      "/var/folders/vr/jxcn32m10yb75616tykny2qr0000gn/T/ipykernel_65767/756554680.py:2: SettingWithCopyWarning: \n",
      "A value is trying to be set on a copy of a slice from a DataFrame.\n",
      "Try using .loc[row_indexer,col_indexer] = value instead\n",
      "\n",
      "See the caveats in the documentation: https://pandas.pydata.org/pandas-docs/stable/user_guide/indexing.html#returning-a-view-versus-a-copy\n",
      "  temp_data['DepDelayAbove0'] = (temp_data['DepDelayMinutes'] > 0).astype(int)\n"
     ]
    },
    {
     "name": "stdout",
     "output_type": "stream",
     "text": [
      "Accuracy: 0.8575276575276576\n"
     ]
    },
    {
     "data": {
      "image/png": "[encoded data removed]",
      "text/plain": [
       "<Figure size 800x600 with 1 Axes>"
      ]
     },
     "metadata": {},
     "output_type": "display_data"
    },
    {
     "name": "stdout",
     "output_type": "stream",
     "text": [
      "True Positive Rate (TPR): 0.33\n",
      "True Negative Rate (TNR): 0.91\n",
      "False Positive Rate (FPR): 0.09\n",
      "False Negative Rate (FNR): 0.67\n"
     ]
    }
   ],
   "source": [
    "# Step 1: Create a binary target variable\n",
    "temp_data['DepDelayAbove0'] = (temp_data['DepDelayMinutes'] > 0).astype(int)\n",
    "\n",
    "# Step 2: Split the data into features (X) and binary target variable (y)\n",
    "X = temp_data.drop(['DepDelayMinutes', 'DepDelayAbove0'], axis=1)\n",
    "y = temp_data['DepDelayAbove0']\n",
    "\n",
    "# Step 3: Split the data into training and testing sets\n",
    "X_train, X_test, y_train, y_test = train_test_split(X, y, test_size=0.2, random_state=42)\n",
    "\n",
    "# Step 4: Preprocess numerical and categorical features separately\n",
    "numeric_features = X.select_dtypes(include=['int64', 'float64']).columns\n",
    "categorical_features = X.select_dtypes(include=['object']).columns\n",
    "\n",
    "numeric_transformer = Pipeline(steps=[\n",
    "    ('imputer', SimpleImputer(strategy='median')),\n",
    "    ('scaler', StandardScaler())\n",
    "])\n",
    "\n",
    "categorical_transformer = Pipeline(steps=[\n",
    "    ('imputer', SimpleImputer(strategy='most_frequent')),\n",
    "    ('onehot', OneHotEncoder(handle_unknown='ignore'))\n",
    "])\n",
    "\n",
    "preprocessor = ColumnTransformer(\n",
    "    transformers=[\n",
    "        ('num', numeric_transformer, numeric_features),\n",
    "        ('cat', categorical_transformer, categorical_features)\n",
    "    ])\n",
    "\n",
    "# Step 5: Create a pipeline with preprocessing and model training\n",
    "pipeline = Pipeline(steps=[\n",
    "    ('preprocessor', preprocessor),\n",
    "    ('classifier', DecisionTreeClassifier(class_weight={0: 1, 1: 100}, random_state=42))  \n",
    "    # Here, the weight for the minority class (1) is set to 100.\n",
    "])\n",
    "\n",
    "# Step 6: Train the model\n",
    "pipeline.fit(X_train, y_train)\n",
    "\n",
    "# Step 7: Evaluate the trained model\n",
    "y_pred = pipeline.predict(X_test)\n",
    "\n",
    "# Evaluation metrics for classification\n",
    "accuracy = accuracy_score(y_test, y_pred)\n",
    "print(\"Accuracy:\", accuracy)\n",
    "\n",
    "# Calculate confusion matrix\n",
    "conf_matrix = confusion_matrix(y_test, y_pred)\n",
    "\n",
    "# Visualize confusion matrix\n",
    "plt.figure(figsize=(8, 6))\n",
    "sb.heatmap(conf_matrix, annot=True, fmt='d', cmap='Blues', cbar=False,\n",
    "            xticklabels=['Predicted Negative', 'Predicted Positive'],\n",
    "            yticklabels=['Actual Negative', 'Actual Positive'])\n",
    "plt.xlabel('Predicted')\n",
    "plt.ylabel('True')\n",
    "plt.title('Confusion Matrix')\n",
    "plt.show()\n",
    "\n",
    "# Calculate rates\n",
    "tn, fp, fn, tp = conf_matrix.ravel()\n",
    "tpr = tp / (tp + fn)\n",
    "tnr = tn / (tn + fp)\n",
    "fpr = fp / (fp + tn)\n",
    "fnr = fn / (fn + tp)\n",
    "\n",
    "# Print rates\n",
    "print(\"True Positive Rate (TPR): {:.2f}\".format(tpr))\n",
    "print(\"True Negative Rate (TNR): {:.2f}\".format(tnr))\n",
    "print(\"False Positive Rate (FPR): {:.2f}\".format(fpr))\n",
    "print(\"False Negative Rate (FNR): {:.2f}\".format(fnr))\n"
   ]
  },
  {
   "cell_type": "markdown",
   "id": "b11d8907",
   "metadata": {},
   "source": [
    "We observe a small increase in TPR."
   ]
  },
  {
   "cell_type": "markdown",
   "id": "4e041897",
   "metadata": {},
   "source": [
    "## Random Forest "
   ]
  },
  {
   "cell_type": "markdown",
   "id": "e5d9586a",
   "metadata": {},
   "source": [
    "Random Forest constructs multiple decision trees during training (classification) and aggregates their predictions through voting or averaging (regression). This allows it to capture the nonlinear interactions between various factors influencing flight delays. It also provides insight into feature importance by measuring the decrease in node impurity/information gain resulting from each feature's inclusion in the decision trees. This enables us to identify the most influential factors contributing to flight delays. \n"
   ]
  },
  {
   "cell_type": "code",
   "execution_count": 19,
   "id": "fa043aef",
   "metadata": {},
   "outputs": [
    {
     "name": "stderr",
     "output_type": "stream",
     "text": [
      "/var/folders/vr/jxcn32m10yb75616tykny2qr0000gn/T/ipykernel_65767/281145642.py:8: SettingWithCopyWarning: \n",
      "A value is trying to be set on a copy of a slice from a DataFrame.\n",
      "Try using .loc[row_indexer,col_indexer] = value instead\n",
      "\n",
      "See the caveats in the documentation: https://pandas.pydata.org/pandas-docs/stable/user_guide/indexing.html#returning-a-view-versus-a-copy\n",
      "  temp_data['DepDelayAbove0'] = (temp_data['DepDelayMinutes'] > 0).astype(int)\n"
     ]
    },
    {
     "name": "stdout",
     "output_type": "stream",
     "text": [
      "Accuracy: 0.9098605098605098\n"
     ]
    }
   ],
   "source": [
    "from sklearn.compose import ColumnTransformer\n",
    "from sklearn.impute import SimpleImputer\n",
    "from sklearn.preprocessing import OneHotEncoder, StandardScaler\n",
    "from sklearn.ensemble import RandomForestClassifier  \n",
    "from sklearn.metrics import accuracy_score  \n",
    "\n",
    "# Step 1: Create a binary target variable\n",
    "temp_data['DepDelayAbove0'] = (temp_data['DepDelayMinutes'] > 0).astype(int)\n",
    "\n",
    "# Step 2: Split the data into features (X) and binary target variable (y)\n",
    "X = temp_data.drop(['DepDelayMinutes', 'DepDelayAbove0'], axis=1)\n",
    "y = temp_data['DepDelayAbove0']\n",
    "\n",
    "# Step 3: Split the data into training and testing sets\n",
    "X_train, X_test, y_train, y_test = train_test_split(X, y, test_size=0.2, random_state=42)\n",
    "\n",
    "# Step 4: Preprocess numerical and categorical features separately\n",
    "numeric_features = X.select_dtypes(include=['int64', 'float64']).columns\n",
    "categorical_features = X.select_dtypes(include=['object']).columns\n",
    "\n",
    "numeric_transformer = Pipeline(steps=[\n",
    "    ('imputer', SimpleImputer(strategy='median')),\n",
    "    ('scaler', StandardScaler())\n",
    "])\n",
    "\n",
    "categorical_transformer = Pipeline(steps=[\n",
    "    ('imputer', SimpleImputer(strategy='most_frequent')),\n",
    "    ('onehot', OneHotEncoder(handle_unknown='ignore'))\n",
    "])\n",
    "\n",
    "preprocessor = ColumnTransformer(\n",
    "    transformers=[\n",
    "        ('num', numeric_transformer, numeric_features),\n",
    "        ('cat', categorical_transformer, categorical_features)\n",
    "    ])\n",
    "\n",
    "# Step 5: Create a pipeline with preprocessing and model training\n",
    "pipeline = Pipeline(steps=[\n",
    "    ('preprocessor', preprocessor),\n",
    "    ('classifier', RandomForestClassifier(n_estimators=100, random_state=42))  \n",
    "])\n",
    "\n",
    "# Step 6: Train the model\n",
    "pipeline.fit(X_train, y_train)\n",
    "\n",
    "# Step 7: Evaluate the trained model\n",
    "y_pred = pipeline.predict(X_test)\n",
    "\n",
    "# Evaluation metrics for classification\n",
    "accuracy = accuracy_score(y_test, y_pred)\n",
    "print(\"Accuracy:\", accuracy)"
   ]
  },
  {
   "cell_type": "code",
   "execution_count": 20,
   "id": "90c3502a",
   "metadata": {},
   "outputs": [
    {
     "data": {
      "image/png": "[encoded data removed]",
      "text/plain": [
       "<Figure size 800x600 with 1 Axes>"
      ]
     },
     "metadata": {},
     "output_type": "display_data"
    },
    {
     "name": "stdout",
     "output_type": "stream",
     "text": [
      "True Positive Rate (TPR): 0.04\n",
      "True Negative Rate (TNR): 1.00\n",
      "False Positive Rate (FPR): 0.00\n",
      "False Negative Rate (FNR): 0.96\n"
     ]
    }
   ],
   "source": [
    "# Calculate confusion matrix\n",
    "conf_matrix = confusion_matrix(y_test, y_pred)\n",
    "\n",
    "# Visualize confusion matrix\n",
    "plt.figure(figsize=(8, 6))\n",
    "sb.heatmap(conf_matrix, annot=True, fmt='d', cmap='Blues', cbar=False,\n",
    "            xticklabels=['Predicted Negative', 'Predicted Positive'],\n",
    "            yticklabels=['Actual Negative', 'Actual Positive'])\n",
    "plt.xlabel('Predicted')\n",
    "plt.ylabel('True')\n",
    "plt.title('Confusion Matrix')\n",
    "plt.show()\n",
    "\n",
    "# Calculate rates\n",
    "tn, fp, fn, tp = conf_matrix.ravel()\n",
    "tpr = tp / (tp + fn)\n",
    "tnr = tn / (tn + fp)\n",
    "fpr = fp / (fp + tn)\n",
    "fnr = fn / (fn + tp)\n",
    "\n",
    "# Print rates\n",
    "print(\"True Positive Rate (TPR): {:.2f}\".format(tpr))\n",
    "print(\"True Negative Rate (TNR): {:.2f}\".format(tnr))\n",
    "print(\"False Positive Rate (FPR): {:.2f}\".format(fpr))\n",
    "print(\"False Negative Rate (FNR): {:.2f}\".format(fnr))"
   ]
  },
  {
   "cell_type": "markdown",
   "id": "c03debf1",
   "metadata": {},
   "source": [
    "We tweaked the weight for this model but it did not improve so we skip it here."
   ]
  },
  {
   "cell_type": "markdown",
   "id": "0d426809",
   "metadata": {},
   "source": [
    "## Logistic Regression"
   ]
  },
  {
   "cell_type": "markdown",
   "id": "adca4e84",
   "metadata": {},
   "source": [
    "Logistic Regression is a method used for binary classification tasks, where the goal is to predict the probability of an instance belonging to one of two classes. It models the relationship between the independent variables (features) and the probability of a specific outcome using the logistic function, which produces output values between 0 and 1, making it suitable for estimating probabilities."
   ]
  },
  {
   "cell_type": "code",
   "execution_count": 21,
   "id": "66e84c7a",
   "metadata": {},
   "outputs": [
    {
     "name": "stdout",
     "output_type": "stream",
     "text": [
      "Accuracy: 0.9172679172679172\n"
     ]
    },
    {
     "name": "stderr",
     "output_type": "stream",
     "text": [
      "/Users/komiyareiju/anaconda3/lib/python3.11/site-packages/sklearn/linear_model/_logistic.py:460: ConvergenceWarning: lbfgs failed to converge (status=1):\n",
      "STOP: TOTAL NO. of ITERATIONS REACHED LIMIT.\n",
      "\n",
      "Increase the number of iterations (max_iter) or scale the data as shown in:\n",
      "    https://scikit-learn.org/stable/modules/preprocessing.html\n",
      "Please also refer to the documentation for alternative solver options:\n",
      "    https://scikit-learn.org/stable/modules/linear_model.html#logistic-regression\n",
      "  n_iter_i = _check_optimize_result(\n"
     ]
    }
   ],
   "source": [
    "from sklearn.model_selection import train_test_split\n",
    "from sklearn.preprocessing import LabelEncoder\n",
    "from sklearn.metrics import accuracy_score\n",
    "from sklearn.linear_model import LogisticRegression\n",
    "\n",
    "# Define the list of categorical columns\n",
    "categorical_columns = ['Quarter', 'Month', 'DayofMonth', 'DayOfWeek', 'FlightDate', 'Operating_Airline ', 'DOT_ID_Operating_Airline', \n",
    "                       'IATA_Code_Operating_Airline','OriginAirportID', 'OriginAirportSeqID', 'OriginCityMarketID', 'Origin', 'OriginCityName', \n",
    "                       'OriginState', 'OriginStateFips', 'OriginStateName', 'OriginWac', 'DestAirportID', \n",
    "                       'DestAirportSeqID', 'DestCityMarketID', 'Dest', 'DestCityName', 'DestState', 'DestStateFips', \n",
    "                       'DestStateName', 'DestWac','BusyDay', 'CRSDepTime_FirstTwoDigits']\n",
    "\n",
    "# Copy the original dataframe to avoid modifying the original data\n",
    "temp_data_encoded = temp_data.copy()\n",
    "\n",
    "# Apply label encoding to categorical columns\n",
    "label_encoder = LabelEncoder()\n",
    "for col in categorical_columns:\n",
    "    temp_data_encoded[col] = label_encoder.fit_transform(temp_data_encoded[col])\n",
    "    \n",
    "# Convert DepDelayMinutes into a binary classification\n",
    "temp_data_encoded['DepDelayMinutes_Class'] = (temp_data_encoded['DepDelayMinutes'] > 1).astype(int)  # Adjust threshold\n",
    "\n",
    "# Split the data into train and test sets\n",
    "X = temp_data_encoded.drop(['DepDelayMinutes', 'DepDelayMinutes_Class'], axis=1)  # Features\n",
    "y = temp_data_encoded['DepDelayMinutes_Class']  # Target variable\n",
    "X_train, X_test, y_train, y_test = train_test_split(X, y, test_size=0.2, random_state=42)\n",
    "\n",
    "# Define the Logistic Regression model\n",
    "log_reg = LogisticRegression()\n",
    "\n",
    "# Train the model\n",
    "log_reg.fit(X_train, y_train)\n",
    "\n",
    "# Make predictions on the test set\n",
    "y_pred = log_reg.predict(X_test)\n",
    "\n",
    "# Evaluate the classifier\n",
    "accuracy = accuracy_score(y_test, y_pred)\n",
    "print(\"Accuracy:\", accuracy)\n"
   ]
  },
  {
   "cell_type": "code",
   "execution_count": 22,
   "id": "7811388a",
   "metadata": {},
   "outputs": [
    {
     "data": {
      "image/png": "[encoded data removed]",
      "text/plain": [
       "<Figure size 800x600 with 1 Axes>"
      ]
     },
     "metadata": {},
     "output_type": "display_data"
    },
    {
     "name": "stdout",
     "output_type": "stream",
     "text": [
      "True Positive Rate (TPR): 0.12\n",
      "True Negative Rate (TNR): 0.99\n",
      "False Positive Rate (FPR): 0.01\n",
      "False Negative Rate (FNR): 0.88\n"
     ]
    }
   ],
   "source": [
    "# Calculate confusion matrix\n",
    "conf_matrix = confusion_matrix(y_test, y_pred)\n",
    "\n",
    "# Visualize confusion matrix\n",
    "plt.figure(figsize=(8, 6))\n",
    "sb.heatmap(conf_matrix, annot=True, fmt='d', cmap='Blues', cbar=False,\n",
    "            xticklabels=['Predicted Negative', 'Predicted Positive'],\n",
    "            yticklabels=['Actual Negative', 'Actual Positive'])\n",
    "plt.xlabel('Predicted')\n",
    "plt.ylabel('True')\n",
    "plt.title('Confusion Matrix')\n",
    "plt.show()\n",
    "\n",
    "# Calculate rates\n",
    "tn, fp, fn, tp = conf_matrix.ravel()\n",
    "tpr = tp / (tp + fn)\n",
    "tnr = tn / (tn + fp)\n",
    "fpr = fp / (fp + tn)\n",
    "fnr = fn / (fn + tp)\n",
    "\n",
    "# Print rates\n",
    "print(\"True Positive Rate (TPR): {:.2f}\".format(tpr))\n",
    "print(\"True Negative Rate (TNR): {:.2f}\".format(tnr))\n",
    "print(\"False Positive Rate (FPR): {:.2f}\".format(fpr))\n",
    "print(\"False Negative Rate (FNR): {:.2f}\".format(fnr))"
   ]
  },
  {
   "cell_type": "markdown",
   "id": "86bc4376",
   "metadata": {},
   "source": [
    "We tweak the weight."
   ]
  },
  {
   "cell_type": "code",
   "execution_count": 23,
   "id": "2a89c845",
   "metadata": {},
   "outputs": [
    {
     "name": "stdout",
     "output_type": "stream",
     "text": [
      "Accuracy: 0.836940836940837\n"
     ]
    },
    {
     "name": "stderr",
     "output_type": "stream",
     "text": [
      "/Users/komiyareiju/anaconda3/lib/python3.11/site-packages/sklearn/linear_model/_logistic.py:460: ConvergenceWarning: lbfgs failed to converge (status=1):\n",
      "STOP: TOTAL NO. of ITERATIONS REACHED LIMIT.\n",
      "\n",
      "Increase the number of iterations (max_iter) or scale the data as shown in:\n",
      "    https://scikit-learn.org/stable/modules/preprocessing.html\n",
      "Please also refer to the documentation for alternative solver options:\n",
      "    https://scikit-learn.org/stable/modules/linear_model.html#logistic-regression\n",
      "  n_iter_i = _check_optimize_result(\n"
     ]
    },
    {
     "data": {
      "image/png": "[encoded data removed]",
      "text/plain": [
       "<Figure size 800x600 with 1 Axes>"
      ]
     },
     "metadata": {},
     "output_type": "display_data"
    },
    {
     "name": "stdout",
     "output_type": "stream",
     "text": [
      "True Positive Rate (TPR): 0.72\n",
      "True Negative Rate (TNR): 0.85\n",
      "False Positive Rate (FPR): 0.15\n",
      "False Negative Rate (FNR): 0.28\n"
     ]
    }
   ],
   "source": [
    "from sklearn.model_selection import train_test_split\n",
    "from sklearn.preprocessing import LabelEncoder\n",
    "from sklearn.metrics import accuracy_score\n",
    "from sklearn.linear_model import LogisticRegression\n",
    "\n",
    "# Define the list of categorical columns\n",
    "categorical_columns = ['Quarter', 'Month', 'DayofMonth', 'DayOfWeek', 'FlightDate', 'Operating_Airline ', 'DOT_ID_Operating_Airline', \n",
    "                       'IATA_Code_Operating_Airline','OriginAirportID', 'OriginAirportSeqID', 'OriginCityMarketID', 'Origin', 'OriginCityName', \n",
    "                       'OriginState', 'OriginStateFips', 'OriginStateName', 'OriginWac', 'DestAirportID', \n",
    "                       'DestAirportSeqID', 'DestCityMarketID', 'Dest', 'DestCityName', 'DestState', 'DestStateFips', \n",
    "                       'DestStateName', 'DestWac','BusyDay', 'CRSDepTime_FirstTwoDigits']\n",
    "\n",
    "# Copy the original dataframe to avoid modifying the original data\n",
    "temp_data_encoded = temp_data.copy()\n",
    "\n",
    "# Apply label encoding to categorical columns\n",
    "label_encoder = LabelEncoder()\n",
    "for col in categorical_columns:\n",
    "    temp_data_encoded[col] = label_encoder.fit_transform(temp_data_encoded[col])\n",
    "    \n",
    "# Convert DepDelayMinutes into a binary classification\n",
    "temp_data_encoded['DepDelayMinutes_Class'] = (temp_data_encoded['DepDelayMinutes'] > 1).astype(int)  # Adjust threshold\n",
    "\n",
    "# Split the data into train and test sets\n",
    "X = temp_data_encoded.drop(['DepDelayMinutes', 'DepDelayMinutes_Class'], axis=1)  # Features\n",
    "y = temp_data_encoded['DepDelayMinutes_Class']  # Target variable\n",
    "X_train, X_test, y_train, y_test = train_test_split(X, y, test_size=0.2, random_state=42)\n",
    "\n",
    "# Define the Logistic Regression model with class weights\n",
    "class_weights = {0: 1, 1: 8}  # Adjust the weights as needed\n",
    "log_reg = LogisticRegression(class_weight=class_weights)\n",
    "\n",
    "# Train the model\n",
    "log_reg.fit(X_train, y_train)\n",
    "\n",
    "# Make predictions on the test set\n",
    "y_pred = log_reg.predict(X_test)\n",
    "\n",
    "# Evaluate the classifier\n",
    "accuracy = accuracy_score(y_test, y_pred)\n",
    "print(\"Accuracy:\", accuracy)\n",
    "\n",
    "# Calculate confusion matrix\n",
    "conf_matrix = confusion_matrix(y_test, y_pred)\n",
    "\n",
    "# Visualize confusion matrix\n",
    "plt.figure(figsize=(8, 6))\n",
    "sb.heatmap(conf_matrix, annot=True, fmt='d', cmap='Blues', cbar=False,\n",
    "            xticklabels=['Predicted Negative', 'Predicted Positive'],\n",
    "            yticklabels=['Actual Negative', 'Actual Positive'])\n",
    "plt.xlabel('Predicted')\n",
    "plt.ylabel('True')\n",
    "plt.title('Confusion Matrix')\n",
    "plt.show()\n",
    "\n",
    "# Calculate rates\n",
    "tn, fp, fn, tp = conf_matrix.ravel()\n",
    "tpr = tp / (tp + fn)\n",
    "tnr = tn / (tn + fp)\n",
    "fpr = fp / (fp + tn)\n",
    "fnr = fn / (fn + tp)\n",
    "\n",
    "# Print rates\n",
    "print(\"True Positive Rate (TPR): {:.2f}\".format(tpr))\n",
    "print(\"True Negative Rate (TNR): {:.2f}\".format(tnr))\n",
    "print(\"False Positive Rate (FPR): {:.2f}\".format(fpr))\n",
    "print(\"False Negative Rate (FNR): {:.2f}\".format(fnr))"
   ]
  },
  {
   "cell_type": "markdown",
   "id": "e24a7ac0",
   "metadata": {},
   "source": [
    "Good model! TPR is significantly higher than before. Let us increment the weight and see how TPR changes."
   ]
  },
  {
   "cell_type": "code",
   "execution_count": 24,
   "id": "ae318479",
   "metadata": {},
   "outputs": [
    {
     "name": "stdout",
     "output_type": "stream",
     "text": [
      "Accuracy: 0.7213083213083213\n"
     ]
    },
    {
     "name": "stderr",
     "output_type": "stream",
     "text": [
      "/Users/komiyareiju/anaconda3/lib/python3.11/site-packages/sklearn/linear_model/_logistic.py:460: ConvergenceWarning: lbfgs failed to converge (status=1):\n",
      "STOP: TOTAL NO. of ITERATIONS REACHED LIMIT.\n",
      "\n",
      "Increase the number of iterations (max_iter) or scale the data as shown in:\n",
      "    https://scikit-learn.org/stable/modules/preprocessing.html\n",
      "Please also refer to the documentation for alternative solver options:\n",
      "    https://scikit-learn.org/stable/modules/linear_model.html#logistic-regression\n",
      "  n_iter_i = _check_optimize_result(\n"
     ]
    },
    {
     "data": {
      "image/png": "[encoded data removed]",
      "text/plain": [
       "<Figure size 800x600 with 1 Axes>"
      ]
     },
     "metadata": {},
     "output_type": "display_data"
    },
    {
     "name": "stdout",
     "output_type": "stream",
     "text": [
      "True Positive Rate (TPR): 0.89\n",
      "True Negative Rate (TNR): 0.71\n",
      "False Positive Rate (FPR): 0.29\n",
      "False Negative Rate (FNR): 0.11\n"
     ]
    }
   ],
   "source": [
    "# Define the Logistic Regression model with class weights\n",
    "class_weights = {0: 1, 1: 20}  # Adjust the weights as needed\n",
    "log_reg = LogisticRegression(class_weight=class_weights)\n",
    "\n",
    "# Train the model\n",
    "log_reg.fit(X_train, y_train)\n",
    "\n",
    "# Make predictions on the test set\n",
    "y_pred = log_reg.predict(X_test)\n",
    "\n",
    "# Evaluate the classifier\n",
    "accuracy = accuracy_score(y_test, y_pred)\n",
    "print(\"Accuracy:\", accuracy)\n",
    "\n",
    "# Calculate confusion matrix\n",
    "conf_matrix = confusion_matrix(y_test, y_pred)\n",
    "\n",
    "# Visualize confusion matrix\n",
    "plt.figure(figsize=(8, 6))\n",
    "sb.heatmap(conf_matrix, annot=True, fmt='d', cmap='Blues', cbar=False,\n",
    "            xticklabels=['Predicted Negative', 'Predicted Positive'],\n",
    "            yticklabels=['Actual Negative', 'Actual Positive'])\n",
    "plt.xlabel('Predicted')\n",
    "plt.ylabel('True')\n",
    "plt.title('Confusion Matrix')\n",
    "plt.show()\n",
    "\n",
    "# Calculate rates\n",
    "tn, fp, fn, tp = conf_matrix.ravel()\n",
    "tpr = tp / (tp + fn)\n",
    "tnr = tn / (tn + fp)\n",
    "fpr = fp / (fp + tn)\n",
    "fnr = fn / (fn + tp)\n",
    "\n",
    "# Print rates\n",
    "print(\"True Positive Rate (TPR): {:.2f}\".format(tpr))\n",
    "print(\"True Negative Rate (TNR): {:.2f}\".format(tnr))\n",
    "print(\"False Positive Rate (FPR): {:.2f}\".format(fpr))\n",
    "print(\"False Negative Rate (FNR): {:.2f}\".format(fnr))"
   ]
  },
  {
   "cell_type": "markdown",
   "id": "bbef074e",
   "metadata": {},
   "source": [
    "The accuracy for this model drops quite a lot from initially. However, considering the context, **it is more important to prioritize TPR rather than TNR; it is worse to be said that our flight is on time when it is NOT.** "
   ]
  },
  {
   "cell_type": "markdown",
   "id": "e1f61c5d",
   "metadata": {},
   "source": [
    "Blindly considering the overall accuracy, the ranking goes as follows: Logistic Regression > Random Forest > Decision Tree. Logistic Regression performs the best. \n",
    "\n",
    "Considering the TPR (which seems more appropriate to see in predicting flight delays), the ranking goes as: Logistic Regression (with weight) > Decision Tree > Random Forest. The most ideal model is Logistic Regression in this sense. "
   ]
  },
  {
   "cell_type": "markdown",
   "id": "569c66d6",
   "metadata": {},
   "source": [
    "## Conclusion"
   ]
  },
  {
   "cell_type": "markdown",
   "id": "7e4c38ba",
   "metadata": {},
   "source": [
    "Compared to other notebooks on the internet, our model's accuracy may not be as good. However, the models we saw people often use with high accuracy included a major problem within them. It is that they include actual departure delay variables (such as DepDel15 or actual variables of WeatherDelay, SecurityDelay and so on, not even seperating the df) to predict DepDelayMinutes. It is hard to justify this as an optimal model. \n",
    "\n",
    "Another insight is that flight delays are not deterministic, and our high accuracy could have come by overfitting. Nonetheless, by using data like type of airline and (origin) airport, it makes sense if it predicts well; a specific route may have a higher possibility of delay than others. \n",
    "\n",
    "Overall, our model seems to balance out overfitting and accuracy, while also considering its real life applications."
   ]
  }
 ],
 "metadata": {
  "kernelspec": {
   "display_name": "Python 3 (ipykernel)",
   "language": "python",
   "name": "python3"
  },
  "language_info": {
   "codemirror_mode": {
    "name": "ipython",
    "version": 3
   },
   "file_extension": ".py",
   "mimetype": "text/x-python",
   "name": "python",
   "nbconvert_exporter": "python",
   "pygments_lexer": "ipython3",
   "version": "3.11.5"
  }
 },
 "nbformat": 4,
 "nbformat_minor": 5
}
